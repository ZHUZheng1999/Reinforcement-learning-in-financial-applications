{
 "cells": [
  {
   "cell_type": "code",
   "execution_count": 1,
   "id": "ecf8fec7",
   "metadata": {},
   "outputs": [],
   "source": [
    "import numpy as np\n",
    "import pandas as pd\n",
    "from tqdm import trange\n",
    "import warnings\n",
    "import matplotlib.pyplot as plt\n",
    "\n",
    "warnings.filterwarnings(\"ignore\")"
   ]
  },
  {
   "cell_type": "code",
   "execution_count": 28,
   "id": "804ad092",
   "metadata": {},
   "outputs": [],
   "source": [
    "class asset_allocation():\n",
    "    def __init__(self, period, ALPHA=0.5, GAMMA=1, epsilon=0.1, u=0.1, d=-0.1, r=0.05, p=0.5, a=1, price=1, W0=10):\n",
    "        self.ALPHA = ALPHA  # learning rate of Q-learning\n",
    "        self.GAMMA = GAMMA # discount rate of Q-learning\n",
    "        self.r = r # riskfree asset return\n",
    "        self.price = price # stock price\n",
    "        self.W0 = W0 # initial wealth\n",
    "        self.actions = [0, 1]  # possible actions: 0: buy 0 unit of stocks, 1: buy 1 unit of stocks\n",
    "        self.epsilon = epsilon\n",
    "        self.up = 1 + u # the rising ratio of stock movement in binominal model\n",
    "        self.down = 1 + d  # the falling ratio of stock movement in binominal model\n",
    "        self.probability = p # the probability in binomial model\n",
    "        self.period = period # time\n",
    "\n",
    "    def this_action(self, state, time, q_value, epsilon=0.1):\n",
    "        if np.random.binomial(1, epsilon) == 1:\n",
    "            # exploration\n",
    "            action = np.random.choice([0,1])\n",
    "        else:\n",
    "            # exploitation\n",
    "            q_values = q_value[time, :]\n",
    "            action = np.random.choice([action_ for action_, value_ in enumerate(q_values) if value_ == np.max(q_values)])\n",
    "        return action\n",
    "\n",
    "    def step(self, state, action, price):\n",
    "        # get the next state, next price and reward\n",
    "        move = np.random.binomial(1, self.probability)\n",
    "        if move == 1:\n",
    "            next_price = price * self.up\n",
    "        else:\n",
    "            next_price = price * self.down\n",
    "\n",
    "        if action == 0:\n",
    "            next_state = float(state) * (1 + self.r)\n",
    "        else:\n",
    "            next_state = (float(state) - price) * (1 + self.r) + next_price\n",
    "\n",
    "        reward = next_state / float(state) - 1\n",
    "\n",
    "        return str(next_state), next_price, reward\n",
    "\n",
    "    def q_learning(self, q_value, epsilon):\n",
    "        state = self.W0\n",
    "        time = 0\n",
    "        price = self.price\n",
    "\n",
    "        while time < (self.period):\n",
    "            action = self.this_action(state, time, q_value, epsilon)\n",
    "            next_state, next_price, reward = self.step(state, action, price)\n",
    "\n",
    "            if time < (self.period-1):\n",
    "                q_value[time, action] += self.ALPHA * (\n",
    "                    reward + self.GAMMA * np.max(q_value[time+1, :]) - q_value[time, action])\n",
    "\n",
    "            else:\n",
    "                q_value[time, action] += self.ALPHA * (reward + 0 - q_value[time, action])\n",
    "            \n",
    "            state = next_state\n",
    "            price = next_price\n",
    "            time += 1\n",
    "\n",
    "        return q_value\n",
    "\n",
    "    def train(self, epsilon, epoch=50000, plot_figure=False, time=9):\n",
    "\n",
    "        q_value = np.zeros((self.period, len(self.actions)))\n",
    "\n",
    "        action0 = []\n",
    "        action1 = []\n",
    "        \n",
    "        for k in trange(epoch):\n",
    "            if (k+1) % 1000 == 0:\n",
    "                epsilon *= 0.8\n",
    "            q_value = self.q_learning(q_value, epsilon)\n",
    "            action0.append(q_value[time,0])\n",
    "            action1.append(q_value[time,1])\n",
    "\n",
    "        self.q_value = q_value\n",
    "        \n",
    "        if plot_figure:\n",
    "            plt.plot(action0, c = 'red', label = 'action0')\n",
    "            plt.plot(action1,  c = 'blue', label = 'action1')\n",
    "            plt.legend(loc='lower right')\n",
    "            plt.title('q_value at time %s of two actions'%(time))\n",
    "            plt.show()\n",
    "        return\n",
    "\n",
    "    def get_q_value(self):\n",
    "        return self.q_value\n",
    "    \n",
    "    def print_q_table(self):\n",
    "        q_table = pd.DataFrame(self.q_value, columns=['0','1'])\n",
    "        print(q_table)\n",
    "        return\n",
    "    \n",
    "    def print_optimal_policy(self):\n",
    "        q_value = self.q_value\n",
    "        optimal_policy = []\n",
    "        for i in range(self.period):\n",
    "            bestAction = np.argmax(q_value[i, :])\n",
    "            if ~np.any(q_value[i, :]):\n",
    "                optimal_policy.append('')\n",
    "            elif bestAction == 0:\n",
    "                optimal_policy.append(0)\n",
    "            elif bestAction == 1:\n",
    "                optimal_policy.append(1)\n",
    "        print(optimal_policy)\n",
    "        return"
   ]
  },
  {
   "cell_type": "code",
   "execution_count": 29,
   "id": "908967bd",
   "metadata": {},
   "outputs": [
    {
     "name": "stderr",
     "output_type": "stream",
     "text": [
      "100%|███████████████████████████████████| 50000/50000 [00:07<00:00, 6845.39it/s]\n"
     ]
    },
    {
     "data": {
      "image/png": "[encoded data removed]",
      "text/plain": [
       "<Figure size 432x288 with 1 Axes>"
      ]
     },
     "metadata": {
      "needs_background": "light"
     },
     "output_type": "display_data"
    },
    {
     "name": "stdout",
     "output_type": "stream",
     "text": [
      "      0         1\n",
      "0  0.50  0.498309\n",
      "1  0.45  0.442390\n",
      "2  0.40  0.396887\n",
      "3  0.35  0.345483\n",
      "4  0.30  0.286650\n",
      "5  0.25  0.243406\n",
      "6  0.20  0.196454\n",
      "7  0.15  0.143172\n",
      "8  0.10  0.094542\n",
      "9  0.05  0.047802\n",
      "[0, 0, 0, 0, 0, 0, 0, 0, 0, 0]\n"
     ]
    }
   ],
   "source": [
    "if __name__ == '__main__':\n",
    "    solver = asset_allocation(period=10)\n",
    "    solver.train(epsilon=0.1, plot_figure=True)\n",
    "    solver.print_q_table()\n",
    "    solver.print_optimal_policy()\n"
   ]
  },
  {
   "cell_type": "code",
   "execution_count": 42,
   "id": "565939cb",
   "metadata": {},
   "outputs": [
    {
     "name": "stderr",
     "output_type": "stream",
     "text": [
      "100%|███████████████████████████████████| 50000/50000 [00:07<00:00, 6441.62it/s]\n",
      "100%|███████████████████████████████████| 50000/50000 [00:07<00:00, 6711.36it/s]\n",
      "100%|███████████████████████████████████| 50000/50000 [00:07<00:00, 6878.46it/s]\n",
      "100%|███████████████████████████████████| 50000/50000 [00:07<00:00, 6754.67it/s]\n",
      "100%|███████████████████████████████████| 50000/50000 [00:07<00:00, 6813.37it/s]\n",
      "100%|███████████████████████████████████| 50000/50000 [00:07<00:00, 6784.16it/s]\n",
      "100%|███████████████████████████████████| 50000/50000 [00:07<00:00, 6774.02it/s]\n",
      "100%|███████████████████████████████████| 50000/50000 [00:07<00:00, 6752.58it/s]\n",
      "100%|███████████████████████████████████| 50000/50000 [00:07<00:00, 6781.79it/s]\n",
      "100%|███████████████████████████████████| 50000/50000 [00:07<00:00, 6730.07it/s]\n"
     ]
    },
    {
     "data": {
      "image/png": "[encoded data removed]",
      "text/plain": [
       "<Figure size 432x288 with 1 Axes>"
      ]
     },
     "metadata": {
      "needs_background": "light"
     },
     "output_type": "display_data"
    },
    {
     "name": "stdout",
     "output_type": "stream",
     "text": [
      "The mean of q-value is 0.4922 and standard variance is 0.0049\n"
     ]
    }
   ],
   "source": [
    "q_values = []\n",
    "for i in range(10):\n",
    "    solver = asset_allocation(period=10)\n",
    "    solver.train(epsilon=0.1)\n",
    "    q_value = solver.get_q_value()\n",
    "    q_values.append(q_value[0,1])\n",
    "\n",
    "plt.plot(q_values)\n",
    "plt.title('q_value at time 0 with action 1')\n",
    "plt.show()\n",
    "print('The mean of q-value is %0.4f and standard variance is %0.4f'%(np.mean(q_values),np.std(q_values)))"
   ]
  },
  {
   "cell_type": "code",
   "execution_count": null,
   "id": "9a0554c2",
   "metadata": {},
   "outputs": [],
   "source": []
  }
 ],
 "metadata": {
  "kernelspec": {
   "display_name": "Python 3 (ipykernel)",
   "language": "python",
   "name": "python3"
  },
  "language_info": {
   "codemirror_mode": {
    "name": "ipython",
    "version": 3
   },
   "file_extension": ".py",
   "mimetype": "text/x-python",
   "name": "python",
   "nbconvert_exporter": "python",
   "pygments_lexer": "ipython3",
   "version": "3.9.12"
  }
 },
 "nbformat": 4,
 "nbformat_minor": 5
}
